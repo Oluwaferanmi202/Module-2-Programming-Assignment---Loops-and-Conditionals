{
 "cells": [
  {
   "cell_type": "code",
   "execution_count": 12,
   "id": "c214732b-bbf9-4b17-aefd-b42fb42f49a7",
   "metadata": {},
   "outputs": [
    {
     "name": "stdout",
     "output_type": "stream",
     "text": [
      "secret is 1\n",
      "guess is 3\n",
      "too high\n"
     ]
    }
   ],
   "source": [
    "import random\n",
    "#4.1\n",
    "\n",
    "# choosing a number from 1 to 10 to assign variable secret\n",
    "secret = random.randint(1,10)\n",
    "\n",
    "# selecting a number from 1 to 10 to assign variable secret\n",
    "guess = random.randint(1,10)\n",
    "\n",
    "# printing values of variables\n",
    "print(\"secret is\",secret)\n",
    "print(\"guess is\",guess)\n",
    "\n",
    "# conditional if statement\n",
    "if guess < secret:\n",
    "    print('too low')\n",
    "elif guess > secret:\n",
    "    print('too high')\n",
    "else:\n",
    "    print('just right')"
   ]
  },
  {
   "cell_type": "code",
   "execution_count": 11,
   "id": "0d50dd03-1e3a-49b6-98e6-032e58ab7e87",
   "metadata": {},
   "outputs": [
    {
     "name": "stdout",
     "output_type": "stream",
     "text": [
      "It's a pea.\n"
     ]
    }
   ],
   "source": [
    "#4.2\n",
    "\n",
    "# Assigning True or False to small and green\n",
    "small = True  # Example: The item is small\n",
    "green = True  # Example: The item is green\n",
    "\n",
    "# Using if/else statements to determine the item\n",
    "if small and green:\n",
    "    print(\"It's a pea.\")\n",
    "elif small and not green:\n",
    "    print(\"It's a cherry.\")\n",
    "elif not small and green:\n",
    "    print(\"It's a watermelon.\")\n",
    "else:\n",
    "    print(\"It's a pumpkin.\")"
   ]
  },
  {
   "cell_type": "code",
   "execution_count": 10,
   "id": "e5d740e4-6490-45c8-91bd-66d090976702",
   "metadata": {},
   "outputs": [
    {
     "name": "stdout",
     "output_type": "stream",
     "text": [
      "3\n",
      "2\n",
      "1\n",
      "0\n"
     ]
    }
   ],
   "source": [
    "# 6.1 Use a for loop to print the values of the list [3, 2, 1, 0]\n",
    "\n",
    "for value in [3, 2, 1, 0]:\n",
    "    print(value)\n"
   ]
  },
  {
   "cell_type": "code",
   "execution_count": 8,
   "id": "96e11ab7-ae5d-4092-b429-7d1982817dd9",
   "metadata": {},
   "outputs": [
    {
     "name": "stdout",
     "output_type": "stream",
     "text": [
      "too low\n",
      "too low\n",
      "too low\n",
      "too low\n",
      "too low\n",
      "too low\n",
      "found it!\n"
     ]
    }
   ],
   "source": [
    "# 6.2 Assign the value 7 to guess_me and 1 to number, then use a while loop\n",
    "\n",
    "guess_me = 7\n",
    "number = 1\n",
    "\n",
    "while True:\n",
    "    if number < guess_me:\n",
    "        print('too low')\n",
    "    elif number == guess_me:\n",
    "        print('found it!')\n",
    "        break\n",
    "    else:\n",
    "        print('oops')\n",
    "        break\n",
    "    number += 1"
   ]
  },
  {
   "cell_type": "code",
   "execution_count": 9,
   "id": "f197c18a-1aed-40ea-9b6e-13c01e7ece75",
   "metadata": {},
   "outputs": [
    {
     "name": "stdout",
     "output_type": "stream",
     "text": [
      "too low\n",
      "too low\n",
      "too low\n",
      "too low\n",
      "too low\n",
      "found it!\n"
     ]
    }
   ],
   "source": [
    "# 6.3 Assign the value 5 to guess_me and use a for loop with range(10)\n",
    "\n",
    "guess_me = 5\n",
    "\n",
    "for number in range(10):\n",
    "    if number < guess_me:\n",
    "        print('too low')\n",
    "    elif number == guess_me:\n",
    "        print('found it!')\n",
    "        break\n",
    "    else:\n",
    "        print('oops')\n",
    "        break"
   ]
  }
 ],
 "metadata": {
  "kernelspec": {
   "display_name": "Python 3 (ipykernel)",
   "language": "python",
   "name": "python3"
  },
  "language_info": {
   "codemirror_mode": {
    "name": "ipython",
    "version": 3
   },
   "file_extension": ".py",
   "mimetype": "text/x-python",
   "name": "python",
   "nbconvert_exporter": "python",
   "pygments_lexer": "ipython3",
   "version": "3.12.7"
  }
 },
 "nbformat": 4,
 "nbformat_minor": 5
}
